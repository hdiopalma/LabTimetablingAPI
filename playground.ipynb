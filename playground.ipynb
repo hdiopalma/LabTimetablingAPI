{
 "cells": [
  {
   "cell_type": "code",
   "execution_count": 11,
   "metadata": {},
   "outputs": [],
   "source": [
    "import os\n",
    "import sys\n",
    "import django\n",
    "\n",
    "os.environ[\"DJANGO_ALLOW_ASYNC_UNSAFE\"] = \"True\"\n",
    "os.environ.setdefault(\"DJANGO_SETTINGS_MODULE\", \"LabTimetablingAPI.settings\")\n",
    "django.setup()"
   ]
  },
  {
   "cell_type": "code",
   "execution_count": 12,
   "metadata": {},
   "outputs": [],
   "source": [
    "default_config = {\n",
    "    \"semester\": 1,\n",
    "    \"local_search\": {\n",
    "        \"algorithm\": \"simulated_annealing\",\n",
    "        \"config\": {\n",
    "            \"neighborhood\": {\n",
    "                \"algorithm\": \"random_swap\",\n",
    "                \"random_swap\": {\n",
    "                    \"neighborhood_size\": 100\n",
    "                },\n",
    "                \"random_range_swap\": {\n",
    "                    \"neighborhood_size_factor\": 0.1,\n",
    "                    \"range_size_factor\": 0.1\n",
    "                },\n",
    "                \"distance_swap\": {\n",
    "                    \"distance_percentage\": 0.1\n",
    "                },\n",
    "                \"swap\": False\n",
    "            },\n",
    "            \"fitness\": {\n",
    "                \"group_assignment_conflict\": {\n",
    "                    \"max_threshold\": 3,\n",
    "                    \"conflict_penalty\": 1\n",
    "                },\n",
    "                \"assistant_distribution\": {\n",
    "                    \"max_group_threshold\": 15,\n",
    "                    \"max_shift_threshold\": 50,\n",
    "                    \"group_penalty\": 1,\n",
    "                    \"shift_penalty\": 1\n",
    "                }\n",
    "            },\n",
    "            \"simulated_annealing\": {\n",
    "                \"initial_temperature\": 50,\n",
    "                \"cooling_rate\": 0.1,\n",
    "                \"max_iteration\": 100,\n",
    "                \"max_time\": 60,\n",
    "                \"max_iteration_without_improvement\": 100,\n",
    "            },\n",
    "            \"tabu_search\": {\n",
    "                \"tabu_list_size\": 50,\n",
    "                \"max_iteration\": 1000,\n",
    "                \"max_time\": 60,\n",
    "                \"max_iteration_without_improvement\": 100,\n",
    "                \"max_time_without_improvement\": 5\n",
    "            }\n",
    "        }\n",
    "    },\n",
    "    \"algorithm\": {\n",
    "        \"algorithm\": \"genetic_local_search\",\n",
    "        \"config\": {\n",
    "            \"max_iteration\": 500,\n",
    "            \"population_size\": 250,\n",
    "            \"elitism_size\": 2,\n",
    "            \"fitness\": {\n",
    "                \"group_assignment_conflict\": {\n",
    "                    \"max_threshold\": 3,\n",
    "                    \"conflict_penalty\": 1\n",
    "                },\n",
    "                \"assistant_distribution\": {\n",
    "                    \"max_group_threshold\": 15,\n",
    "                    \"max_shift_threshold\": 25,\n",
    "                    \"group_penalty\": 1,\n",
    "                    \"shift_penalty\": 1\n",
    "                }\n",
    "            },\n",
    "            \"operator\": {\n",
    "                \"selection\": {\n",
    "                    \"roulette_wheel\": True,\n",
    "                    \"tournament\": False,\n",
    "                    \"elitism\": True,\n",
    "                    \"tournament_size\": 5\n",
    "                },\n",
    "                \"crossover\": {\n",
    "                    \"single_point\": True,\n",
    "                    \"two_point\": False,\n",
    "                    \"uniform\": False,\n",
    "                    \"crossover_probability\": 0.1,\n",
    "                    \"uniform_probability\": 0.5\n",
    "                },\n",
    "                \"mutation\": {\n",
    "                    \"swap\": True,\n",
    "                    \"shift\": False,\n",
    "                    \"random\": False,\n",
    "                    \"mutation_probability\": 0.1\n",
    "                },\n",
    "                \"repair\": {\n",
    "                    \"time_slot\": True\n",
    "                }\n",
    "            }\n",
    "        }\n",
    "    }\n",
    "}\n",
    "\n",
    "\n"
   ]
  },
  {
   "cell_type": "code",
   "execution_count": 13,
   "metadata": {},
   "outputs": [],
   "source": [
    "from scheduling_algorithm.data_parser import ModuleData\n",
    "from scheduling_algorithm.algorithms import (\n",
    "    GeneticAlgorithm,\n",
    "    GeneticLocalSearch\n",
    ")\n",
    "from scheduling_algorithm.utils.solution_generator import SolutionGenerator\n",
    "from scheduling_algorithm.factory import WeeklyFactory"
   ]
  },
  {
   "cell_type": "code",
   "execution_count": 14,
   "metadata": {},
   "outputs": [],
   "source": [
    "modules = ModuleData.get_modules_by_semester(1)"
   ]
  },
  {
   "cell_type": "code",
   "execution_count": 15,
   "metadata": {},
   "outputs": [
    {
     "name": "stdout",
     "output_type": "stream",
     "text": [
      "Loading configuration...\n",
      "Configuration loaded successfully.\n",
      "Creating Genetic Algorithm Object from Configuration File\n",
      "Creating FitnessManager with fitness functions:  [Fitness(name=GroupAssignmentConflictFitness), Fitness(name=AssistantDistributionFitness)]\n",
      "Elitism:  Selection(name=ElitismSelection)\n",
      "Configured selection functions:  [Selection(name=RouletteWheelSelection), Selection(name=ElitismSelection)]\n",
      "Configuring crossover operator:  [Crossover(name=SinglePointCrossover)]\n",
      "Configuring mutation operator:  [Mutation(name=SwapMutation)]\n",
      "Configuring repair operator:  [Repair(name=RepairTimeSlot)]\n",
      "Loading configuration...\n",
      "Configuration loaded successfully.\n",
      "Creating Genetic Algorithm Object from Configuration File\n",
      "Creating FitnessManager with fitness functions:  [Fitness(name=GroupAssignmentConflictFitness), Fitness(name=AssistantDistributionFitness)]\n",
      "Elitism:  Selection(name=ElitismSelection)\n",
      "Configured selection functions:  [Selection(name=RouletteWheelSelection), Selection(name=ElitismSelection)]\n",
      "Configuring crossover operator:  [Crossover(name=SinglePointCrossover)]\n",
      "Configuring mutation operator:  [Mutation(name=SwapMutation)]\n",
      "Configuring repair operator:  [Repair(name=RepairTimeSlot)]\n"
     ]
    }
   ],
   "source": [
    "generator = SolutionGenerator.from_data(default_config)\n",
    "weekly_generator = SolutionGenerator.from_data(default_config)"
   ]
  },
  {
   "cell_type": "code",
   "execution_count": 22,
   "metadata": {},
   "outputs": [
    {
     "name": "stdout",
     "output_type": "stream",
     "text": [
      "Generating population for module 1 week 1\n",
      "Generating population for module 1 week 2\n",
      "Generating population for module 1 week 3\n",
      "Generating population for module 1 week 4\n",
      "Generating population for module 1 week 5\n",
      "Module 1 week 5 has no population, all the remaining chapter are already assigned on previous weeks\n",
      "Starting the schedule generation algorithm...\n"
     ]
    }
   ],
   "source": [
    "solution = weekly_generator.generate_solution_weekly_test()"
   ]
  },
  {
   "cell_type": "code",
   "execution_count": 23,
   "metadata": {},
   "outputs": [
    {
     "data": {
      "text/plain": [
       "Chromosome(length=288, fitness=0)"
      ]
     },
     "execution_count": 23,
     "metadata": {},
     "output_type": "execute_result"
    }
   ],
   "source": [
    "solution"
   ]
  },
  {
   "cell_type": "code",
   "execution_count": 18,
   "metadata": {},
   "outputs": [
    {
     "name": "stdout",
     "output_type": "stream",
     "text": [
      "Generating population for module 1\n"
     ]
    }
   ],
   "source": [
    "solution1 = generator.generate_solution_normal_test()"
   ]
  },
  {
   "cell_type": "code",
   "execution_count": 20,
   "metadata": {},
   "outputs": [
    {
     "data": {
      "text/plain": [
       "Chromosome(length=288, fitness=116)"
      ]
     },
     "execution_count": 20,
     "metadata": {},
     "output_type": "execute_result"
    }
   ],
   "source": [
    "solution1"
   ]
  }
 ],
 "metadata": {
  "kernelspec": {
   "display_name": "jte-lab-timetabling",
   "language": "python",
   "name": "python3"
  },
  "language_info": {
   "codemirror_mode": {
    "name": "ipython",
    "version": 3
   },
   "file_extension": ".py",
   "mimetype": "text/x-python",
   "name": "python",
   "nbconvert_exporter": "python",
   "pygments_lexer": "ipython3",
   "version": "3.10.12"
  }
 },
 "nbformat": 4,
 "nbformat_minor": 2
}
