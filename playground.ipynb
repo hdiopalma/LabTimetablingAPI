{
 "cells": [
  {
   "cell_type": "code",
   "execution_count": null,
   "metadata": {},
   "outputs": [],
   "source": [
    "import os\n",
    "import sys\n",
    "import django\n",
    "\n",
    "os.environ[\"DJANGO_ALLOW_ASYNC_UNSAFE\"] = \"True\"\n",
    "os.environ.setdefault(\"DJANGO_SETTINGS_MODULE\", \"LabTimetablingAPI.settings\")\n",
    "django.setup()"
   ]
  },
  {
   "cell_type": "code",
   "execution_count": null,
   "metadata": {},
   "outputs": [],
   "source": [
    "default_config = {\n",
    "    \"semester\": 1,\n",
    "    \"local_search\": {\n",
    "        \"algorithm\": \"simulated_annealing\",\n",
    "        \"config\": {\n",
    "            \"neighborhood\": {\n",
    "                \"algorithm\": \"random_swap\",\n",
    "                \"random_swap\": {\n",
    "                    \"neighborhood_size\": 25\n",
    "                },\n",
    "                \"random_range_swap\": {\n",
    "                    \"neighborhood_size_factor\": 0.1,\n",
    "                    \"range_size_factor\": 0.1\n",
    "                },\n",
    "                \"distance_swap\": {\n",
    "                    \"distance_percentage\": 0.1\n",
    "                },\n",
    "                \"swap\": False\n",
    "            },\n",
    "            \"simulated_annealing\": {\n",
    "                \"initial_temperature\": 25,\n",
    "                \"cooling_rate\": 0.1,\n",
    "                \"max_iteration\": 250,\n",
    "                \"max_time\": 30,\n",
    "                \"max_iteration_without_improvement\": 25,\n",
    "            },\n",
    "            \"tabu_search\": {\n",
    "                \"tabu_list_size\": 50,\n",
    "                \"max_iteration\": 1000,\n",
    "                \"max_time\": 60,\n",
    "                \"max_iteration_without_improvement\": 100,\n",
    "                \"max_time_without_improvement\": 5\n",
    "            }\n",
    "        }\n",
    "    },\n",
    "    \"algorithm\": {\n",
    "        \"algorithm\": \"genetic_algorithm\",\n",
    "        \"config\": {\n",
    "            \"max_iteration\": 500,\n",
    "            \"population_size\": 100,\n",
    "            \"elitism_size\": 2,\n",
    "            \"fitness\": {\n",
    "                \"group_assignment_conflict\": {\n",
    "                    \"max_threshold\": 3,\n",
    "                    \"conflict_penalty\": 0.5\n",
    "                },\n",
    "                \"assistant_distribution\": {\n",
    "                    \"max_group_threshold\": 25,\n",
    "                    \"max_shift_threshold\": 6,\n",
    "                    \"group_penalty\": 0.25,\n",
    "                    \"shift_penalty\": 0.75\n",
    "                },\n",
    "                \"timeslot_conflict\": {\n",
    "                    \"assistant_conflict_penalty\": 1,\n",
    "                    \"group_conflict_penalty\": 0.5\n",
    "                },\n",
    "            },\n",
    "            \"operator\": {\n",
    "                \"selection\": {\n",
    "                    \"roulette_wheel\": True,\n",
    "                    \"tournament\": True,\n",
    "                    \"elitism\": False,\n",
    "                    \"tournament_size\": 10\n",
    "                },\n",
    "                \"crossover\": {\n",
    "                    \"single_point\": False,\n",
    "                    \"two_point\": False,\n",
    "                    \"uniform\": True,\n",
    "                    \"crossover_probability\": 0.1,\n",
    "                    \"uniform_probability\": 0.5\n",
    "                },\n",
    "                \"mutation\": {\n",
    "                    \"swap\": True,\n",
    "                    \"shift\": False,\n",
    "                    \"random\": True,\n",
    "                    \"mutation_probability\": 0.05\n",
    "                },\n",
    "                \"repair\": {\n",
    "                    \"time_slot\": True\n",
    "                }\n",
    "            }\n",
    "        }\n",
    "    }\n",
    "}\n",
    "\n",
    "\n"
   ]
  },
  {
   "cell_type": "code",
   "execution_count": null,
   "metadata": {},
   "outputs": [],
   "source": [
    "from scheduling_algorithm.data_parser import ModuleData\n",
    "from scheduling_algorithm.algorithms import (\n",
    "    GeneticAlgorithm,\n",
    "    GeneticLocalSearch\n",
    ")\n",
    "from scheduling_algorithm.utils.solution_generator import SolutionGenerator\n",
    "from scheduling_algorithm.factory import WeeklyFactory"
   ]
  },
  {
   "cell_type": "code",
   "execution_count": null,
   "metadata": {},
   "outputs": [],
   "source": [
    "population = WeeklyFactory(4,1).generate_population(10,1)"
   ]
  },
  {
   "cell_type": "code",
   "execution_count": null,
   "metadata": {},
   "outputs": [],
   "source": [
    "a = [1,2,3,4,5,6,7,8,9,10]\n",
    "#pop last 2\n",
    "b = [11,12]\n",
    "for i in range(len(b)):\n",
    "    a[-(i+1)] = b[i]"
   ]
  },
  {
   "cell_type": "code",
   "execution_count": null,
   "metadata": {},
   "outputs": [],
   "source": [
    "a"
   ]
  },
  {
   "cell_type": "code",
   "execution_count": null,
   "metadata": {},
   "outputs": [],
   "source": [
    "population[:5]"
   ]
  },
  {
   "cell_type": "code",
   "execution_count": null,
   "metadata": {},
   "outputs": [],
   "source": [
    "modules = ModuleData.get_modules_by_semester(1)"
   ]
  },
  {
   "cell_type": "code",
   "execution_count": null,
   "metadata": {},
   "outputs": [],
   "source": [
    "# generator = SolutionGenerator.from_data(default_config)\n",
    "weekly_generator = SolutionGenerator.from_data(default_config)"
   ]
  },
  {
   "cell_type": "code",
   "execution_count": null,
   "metadata": {},
   "outputs": [],
   "source": [
    "import cProfile as profile\n",
    "import pstats\n",
    "from pstats import SortKey\n",
    "\n",
    "profiler = profile.Profile()\n",
    "profiler.enable()\n",
    "solution = weekly_generator.generate_solution_weekly_test()\n",
    "profiler.disable()"
   ]
  },
  {
   "cell_type": "code",
   "execution_count": null,
   "metadata": {},
   "outputs": [],
   "source": [
    "solution"
   ]
  },
  {
   "cell_type": "code",
   "execution_count": null,
   "metadata": {},
   "outputs": [],
   "source": [
    "weekly_generator.algorithm.log"
   ]
  },
  {
   "cell_type": "code",
   "execution_count": null,
   "metadata": {},
   "outputs": [],
   "source": [
    "a= solution.copy()\n",
    "b = solution.copy()"
   ]
  },
  {
   "cell_type": "code",
   "execution_count": null,
   "metadata": {},
   "outputs": [],
   "source": [
    "a[0][0] = 2"
   ]
  },
  {
   "cell_type": "code",
   "execution_count": null,
   "metadata": {},
   "outputs": [],
   "source": [
    "a = np.array(a)"
   ]
  },
  {
   "cell_type": "code",
   "execution_count": null,
   "metadata": {},
   "outputs": [],
   "source": [
    "a == b"
   ]
  },
  {
   "cell_type": "code",
   "execution_count": null,
   "metadata": {},
   "outputs": [],
   "source": [
    "from scheduling_algorithm.structure.chromosome import Chromosome\n"
   ]
  },
  {
   "cell_type": "code",
   "execution_count": null,
   "metadata": {},
   "outputs": [],
   "source": [
    "gene = []\n",
    "for chromosome in solution[:72]:\n",
    "    gene.append({\"laboratory\": chromosome[0], \"module\": chromosome[1], \"chapter\": chromosome[2], \"group\": chromosome[3], \"assistant\": chromosome[4], \"time_slot\": (chromosome[5], chromosome[6], chromosome[7])})\n",
    "gene2 = []\n",
    "for chromosome in solution[72:]:\n",
    "    gene2.append({\"laboratory\": chromosome[0], \"module\": chromosome[1], \"chapter\": chromosome[2], \"group\": chromosome[3], \"assistant\": chromosome[4], \"time_slot\": (chromosome[5], chromosome[6], chromosome[7])})"
   ]
  },
  {
   "cell_type": "code",
   "execution_count": null,
   "metadata": {},
   "outputs": [],
   "source": [
    "chromosome_copy = Chromosome(gene)\n",
    "chromosome_copy2 = Chromosome(gene2)"
   ]
  },
  {
   "cell_type": "code",
   "execution_count": null,
   "metadata": {},
   "outputs": [],
   "source": [
    "a = [i for i in range(1, 73)]"
   ]
  },
  {
   "cell_type": "code",
   "execution_count": null,
   "metadata": {},
   "outputs": [],
   "source": [
    "chromosome_copy.gene_data['assistant'] = [4, 4, 5, 5, 5, 5, 6, 1, 6, 2, 3, 4, 1, 5, 2, 5, 5, 6, 3, 1, 3, 4,\n",
    "       1, 5, 1, 2, 1, 5, 6, 5, 3, 4, 6, 4, 2, 1, 1, 2, 3, 3, 2, 5, 1, 3,\n",
    "       6, 2, 3, 5, 4, 4, 2, 1, 1, 6, 6, 2, 6, 2, 5, 1, 3, 3, 4, 3, 3, 6,\n",
    "       5, 3, 1, 1, 4, 3]"
   ]
  },
  {
   "cell_type": "code",
   "execution_count": null,
   "metadata": {},
   "outputs": [],
   "source": [
    "weekly_generator.algorithm.fitness_manager(chromosome_copy)"
   ]
  },
  {
   "cell_type": "code",
   "execution_count": null,
   "metadata": {},
   "outputs": [],
   "source": [
    "chromosome_copy.gene_data[6]['module']"
   ]
  },
  {
   "cell_type": "code",
   "execution_count": null,
   "metadata": {},
   "outputs": [],
   "source": [
    "chromosome_copy2.gene_data[6]['module']"
   ]
  },
  {
   "cell_type": "code",
   "execution_count": null,
   "metadata": {},
   "outputs": [],
   "source": [
    "chromosome_copy.gene_data[6]['module'], chromosome_copy2.gene_data[6]['module'] = chromosome_copy2.gene_data[6]['module'], chromosome_copy.gene_data[6]['module']"
   ]
  },
  {
   "cell_type": "code",
   "execution_count": null,
   "metadata": {},
   "outputs": [],
   "source": [
    "import numpy as np\n",
    "def swap_numpy(chromosome1, chromosome2):\n",
    "    temp = np.copy(chromosome1)\n",
    "    chromosome1 = np.copy(chromosome2)\n",
    "    chromosome2 = temp"
   ]
  },
  {
   "cell_type": "code",
   "execution_count": null,
   "metadata": {},
   "outputs": [],
   "source": [
    "a = np.array([1, 2, 3, 4, 5, 6])"
   ]
  },
  {
   "cell_type": "code",
   "execution_count": null,
   "metadata": {},
   "outputs": [],
   "source": [
    "a[:3]"
   ]
  },
  {
   "cell_type": "code",
   "execution_count": null,
   "metadata": {},
   "outputs": [],
   "source": [
    "temp = np.copy(chromosome_copy.gene_data[:6]\n",
    "chromosome_copy.gene_data[:6] = chromosome_copy2.gene_data[:6]\n",
    "chromosome_copy2.gene_data[:6] = temp"
   ]
  },
  {
   "cell_type": "code",
   "execution_count": null,
   "metadata": {},
   "outputs": [],
   "source": [
    "chromosome_copy.gene_data[6]['module']"
   ]
  },
  {
   "cell_type": "code",
   "execution_count": null,
   "metadata": {},
   "outputs": [],
   "source": [
    "chromosome_copy2.gene_data[6]['module']"
   ]
  },
  {
   "cell_type": "code",
   "execution_count": null,
   "metadata": {},
   "outputs": [],
   "source": [
    "array1[3], array2[3] = array2[3], array1[3]"
   ]
  },
  {
   "cell_type": "code",
   "execution_count": null,
   "metadata": {},
   "outputs": [],
   "source": [
    "array1"
   ]
  },
  {
   "cell_type": "code",
   "execution_count": null,
   "metadata": {},
   "outputs": [],
   "source": [
    "array2"
   ]
  },
  {
   "cell_type": "code",
   "execution_count": null,
   "metadata": {},
   "outputs": [],
   "source": [
    "stats = pstats.Stats(profiler).sort_stats(SortKey.TIME)\n",
    "stats.print_stats()\n",
    "\n",
    "#profiler file\n",
    "profiler.dump_stats('profiler2.prof')"
   ]
  },
  {
   "cell_type": "code",
   "execution_count": null,
   "metadata": {},
   "outputs": [],
   "source": [
    "from scheduling_algorithm.factory import WeeklyFactory"
   ]
  },
  {
   "cell_type": "code",
   "execution_count": null,
   "metadata": {},
   "outputs": [],
   "source": [
    "population = WeeklyFactory(4,1).generate_population(1, 1)"
   ]
  },
  {
   "cell_type": "code",
   "execution_count": null,
   "metadata": {},
   "outputs": [],
   "source": [
    "population[0]['time_slot_date'][0]"
   ]
  },
  {
   "cell_type": "code",
   "execution_count": null,
   "metadata": {},
   "outputs": [],
   "source": [
    "a, b, c = (1, 2, 3)"
   ]
  },
  {
   "cell_type": "code",
   "execution_count": null,
   "metadata": {},
   "outputs": [],
   "source": [
    "b"
   ]
  },
  {
   "cell_type": "code",
   "execution_count": null,
   "metadata": {},
   "outputs": [],
   "source": [
    "timeslotconflict(population[0])"
   ]
  },
  {
   "cell_type": "code",
   "execution_count": null,
   "metadata": {},
   "outputs": [],
   "source": [
    "assistantdist(population[0])"
   ]
  },
  {
   "cell_type": "code",
   "execution_count": null,
   "metadata": {},
   "outputs": [],
   "source": [
    "groupassign(population[0])"
   ]
  },
  {
   "cell_type": "code",
   "execution_count": null,
   "metadata": {},
   "outputs": [],
   "source": [
    "from collections import defaultdict, Counter\n",
    "from scheduling_algorithm.structure.chromosome import Chromosome\n",
    "from scheduling_algorithm.fitness_function.base_fitness import BaseFitness\n",
    "\n",
    "import numpy as np\n",
    "\n",
    "#Maximize the utilization of assistants by distributing tasks evenly among them. Each assistant should be assigned to a balanced number of groups and shift to avoid overloading.\n",
    "class AssistantDistributionFitness(BaseFitness):\n",
    "    def __init__(self):\n",
    "        super().__init__(\"AssistantDistributionFitness\")\n",
    "        self.max_group_threshold = 200\n",
    "        self.max_shift_threshold = 50\n",
    "        self.group_penalty = 1\n",
    "        self.shift_penalty = 1\n",
    "        \n",
    "    def __str__(self):\n",
    "        message = f\"Fitness(name={self.name}, max_group_threshold={self.max_group_threshold}, max_shift_threshold={self.max_shift_threshold}, group_penalty={self.group_penalty}, shift_penalty={self.shift_penalty})\"\n",
    "        return message\n",
    "\n",
    "    def calculate_penalty(self, modules, assistants, groups, timeslots):\n",
    "        total_penalty = 0\n",
    "        for assistant in np.unique(assistants):\n",
    "            assistant_mask = assistants == assistant\n",
    "            assistant_modules = modules[assistant_mask]\n",
    "            assistant_groups = groups[assistant_mask]\n",
    "            assistant_timeslots = timeslots[assistant_mask]\n",
    "            \n",
    "            group_counts = Counter(zip(assistant_modules, assistant_groups))\n",
    "            shift_counts = Counter(zip(assistant_modules, assistant_timeslots))\n",
    "            \n",
    "            #Assuming that all the chromosomes have the same module. If we need to generate the schedule for all the module at once, we need to change the way we calculate the penalty\n",
    "            group_penalty = max(0, (len(group_counts) - self.max_group_threshold) * self.group_penalty)\n",
    "            shift_penalty = max(0, (len(shift_counts) - self.max_shift_threshold) * self.shift_penalty)\n",
    "            total_penalty += group_penalty + shift_penalty\n",
    "        return total_penalty"
   ]
  },
  {
   "cell_type": "code",
   "execution_count": null,
   "metadata": {},
   "outputs": [],
   "source": [
    "from collections import defaultdict\n",
    "from scheduling_algorithm.structure.chromosome import Chromosome\n",
    "from scheduling_algorithm.fitness_function.base_fitness import BaseFitness\n",
    "\n",
    "class TimeslotConflict(BaseFitness):\n",
    "    def __init__(self):\n",
    "        \"\"\"Fitness function to penalize conflicts in timeslot assignment. (e.g. a group or assistant is assigned to the same timeslot more than once)\"\"\"\n",
    "        super().__init__(\"TimeslotConflictFitness\")\n",
    "        self.assistant_conflict_penalty = None\n",
    "        self.group_conflict_penalty = None\n",
    "        \n",
    "    def __str__(self):\n",
    "        message = f\"Fitness(name={self.name}, assistant_conflict_penalty={self.assistant_conflict_penalty}, group_conflict_penalty={self.group_conflict_penalty})\"\n",
    "        return message\n",
    "\n",
    "    def __call__(self, timeslot_dates, timeslot_shifts, entity_ids, chapters, penalty, is_assistant=False):\n",
    "        total_penalty = 0\n",
    "        seen_combinations = defaultdict(set)\n",
    "        \n",
    "        if is_assistant:\n",
    "            # Check for conflicts where the same assistant is assigned the same timeslot for different chapters\n",
    "            for i in range(len(timeslot_dates)):\n",
    "                combination = (timeslot_dates[i], timeslot_shifts[i], entity_ids[i])\n",
    "                if combination in seen_combinations and chapters[i] not in seen_combinations[combination]:\n",
    "                    total_penalty += penalty  # Penalize duplicate\n",
    "                else:\n",
    "                    seen_combinations[combination].add(chapters[i])\n",
    "        else:\n",
    "            # Check for conflicts where the same group is assigned the same timeslot\n",
    "            for i in range(len(timeslot_dates)):\n",
    "                combination = (timeslot_dates[i], timeslot_shifts[i], entity_ids[i])\n",
    "                if combination in seen_combinations:\n",
    "                    total_penalty += penalty  # Penalize duplicate\n",
    "                else:\n",
    "                    seen_combinations[combination].add(chapters[i])\n",
    "        \n",
    "        return total_penalty\n",
    "    \n",
    "    def calculate_penalty(self, assistants, groups, chapters, timeslot_dates, timeslot_shifts):\n",
    "        # Check for assistant conflicts\n",
    "        assistant_penalty = self(timeslot_dates, timeslot_shifts, assistants, chapters, self.assistant_conflict_penalty, is_assistant=True)\n",
    "        \n",
    "        # Check for group conflicts\n",
    "        group_penalty = self(timeslot_dates, timeslot_shifts, groups, chapters, self.group_conflict_penalty, is_assistant=False)\n",
    "        \n",
    "        return assistant_penalty + group_penalty\n",
    "    \n",
    "    def configure(self, assistant_conflict_penalty, group_conflict_penalty):\n",
    "        \"\"\"Configure the fitness function\n",
    "        Args:\n",
    "            assistant_conflict_penalty (int): Penalty for each assistant timeslot conflict\n",
    "            group_conflict_penalty (int): Penalty for each group timeslot conflict\"\"\"\n",
    "        self.assistant_conflict_penalty = assistant_conflict_penalty\n",
    "        self.group_conflict_penalty = group_conflict_penalty\n",
    "        return self\n"
   ]
  },
  {
   "cell_type": "code",
   "execution_count": null,
   "metadata": {},
   "outputs": [],
   "source": [
    "# Define a dummy chromosome with potential conflicts\n",
    "dummy_chromosome = [\n",
    "    {\"assistant\": \"Assistant1\", \"group\": \"Group1\", \"chapter\": \"Chapter1\", \"time_slot\": \"Sunday\", \"laboratory\": \"Lab1\", \"module\": \"Module1\"},\n",
    "    {\"assistant\": \"Assistant1\", \"group\": \"Group2\", \"chapter\": \"Chapter1\", \"time_slot\": \"Sunday\", \"laboratory\": \"Lab1\", \"module\": \"Module1\"},\n",
    "    {\"assistant\": \"Assistant1\", \"group\": \"Group3\", \"chapter\": \"Chapter1\", \"time_slot\": \"Sunday\", \"laboratory\": \"Lab1\", \"module\": \"Module1\"},\n",
    "    {\"assistant\": \"Assistant1\", \"group\": \"Group4\", \"chapter\": \"Chapter2\", \"time_slot\": \"Tuesday\", \"laboratory\": \"Lab1\", \"module\": \"Module1\"},\n",
    "    {\"assistant\": \"Assistant1\", \"group\": \"Group5\", \"chapter\": \"Chapter2\", \"time_slot\": \"Tuesday\", \"laboratory\": \"Lab1\", \"module\": \"Module1\"},\n",
    "    {\"assistant\": \"Assistant2\", \"group\": \"Group1\", \"chapter\": \"Chapter1\", \"time_slot\": \"Monday\", \"laboratory\": \"Lab1\", \"module\": \"Module1\"},\n",
    "    {\"assistant\": \"Assistant2\", \"group\": \"Group1\", \"chapter\": \"Chapter2\", \"time_slot\": \"Monday\", \"laboratory\": \"Lab1\", \"module\": \"Module1\"},  # Group conflict\n",
    "    {\"assistant\": \"Assistant3\", \"group\": \"Group1\", \"chapter\": \"Chapter1\", \"time_slot\": \"Monday\", \"laboratory\": \"Lab1\", \"module\": \"Module1\"},\n",
    "    {\"assistant\": \"Assistant3\", \"group\": \"Group2\", \"chapter\": \"Chapter1\", \"time_slot\": \"Tuesday\", \"laboratory\": \"Lab1\", \"module\": \"Module1\"},\n",
    "    {\"assistant\": \"Assistant3\", \"group\": \"Group3\", \"chapter\": \"Chapter2\", \"time_slot\": \"Tuesday\", \"laboratory\": \"Lab1\", \"module\": \"Module1\"}  # Assistant conflict\n",
    "]\n",
    "\n",
    "# Extract relevant fields for fitness function calculation\n",
    "assistants = [gene[\"assistant\"] for gene in dummy_chromosome]\n",
    "groups = [gene[\"group\"] for gene in dummy_chromosome]\n",
    "chapters = [gene[\"chapter\"] for gene in dummy_chromosome]\n",
    "timeslot_dates = [gene[\"time_slot\"] for gene in dummy_chromosome]\n",
    "timeslot_shifts = [gene[\"laboratory\"] for gene in dummy_chromosome]  # Assuming laboratory as shift for this example\n",
    "\n",
    "# Configure the TimeslotConflict fitness function\n",
    "timeslot_conflict_fitness = TimeslotConflict().configure(assistant_conflict_penalty=0, group_conflict_penalty=1)\n",
    "\n",
    "# Calculate the penalty\n",
    "penalty = timeslot_conflict_fitness.calculate_penalty(assistants, groups, chapters, timeslot_dates, timeslot_shifts)\n",
    "\n",
    "# Output the penalty\n",
    "print(f\"Total penalty for timeslot conflicts: {penalty}\")\n"
   ]
  },
  {
   "cell_type": "code",
   "execution_count": null,
   "metadata": {},
   "outputs": [],
   "source": [
    "from collections import defaultdict\n",
    "from scheduling_algorithm.structure.chromosome import Chromosome\n",
    "from scheduling_algorithm.fitness_function.base_fitness import BaseFitness\n",
    "\n",
    "class GroupAssignmentCapacityFitness(BaseFitness):\n",
    "    def __init__(self):\n",
    "        \"\"\"Calculate penalty for exceeding the maximum number of groups that can be assigned to a single time slot in lab.\n",
    "        (Maksimal jumlah kelompk yang diajar oleh asisten dalam satu waktu)\n",
    "        \"\"\"\n",
    "        super().__init__(\"GroupAssignmentCapacityFitness\")\n",
    "        self.max_threshold = None\n",
    "        self.conflict_penalty = None\n",
    "\n",
    "    def __str__(self):\n",
    "        return (f\"Fitness(name={self.name}, max_threshold={self.max_threshold}, conflict_penalty={self.conflict_penalty})\")\n",
    "\n",
    "    def calculate_penalty(self, labs, modules, assistants, groups, timeslot_dates, timeslot_shifts):\n",
    "        assistant_timeslot_count = defaultdict(int)\n",
    "        total_penalty = 0\n",
    "\n",
    "        for i in range(len(labs)):\n",
    "            combination = (labs[i], modules[i], assistants[i], timeslot_dates[i], timeslot_shifts[i])\n",
    "            assistant_timeslot_count[combination] += 1\n",
    "\n",
    "        for count in assistant_timeslot_count.values():\n",
    "            if count > self.max_threshold:\n",
    "                total_penalty += (count - self.max_threshold) * self.conflict_penalty\n",
    "\n",
    "        return total_penalty\n",
    "\n",
    "    def configure(self, max_threshold, conflict_penalty):\n",
    "        \"\"\"Configure the fitness function with the max threshold and conflict penalty.\"\"\"\n",
    "        self.max_threshold = max_threshold\n",
    "        self.conflict_penalty = conflict_penalty\n",
    "        return self"
   ]
  },
  {
   "cell_type": "code",
   "execution_count": null,
   "metadata": {},
   "outputs": [],
   "source": [
    "dummy_chromosome = [\n",
    "    {\"assistant\": \"Assistant1\", \"group\": \"Group1\", \"chapter\": \"Chapter1\", \"time_slot\": \"Sunday\", \"laboratory\": \"Lab1\", \"module\": \"Module1\"},\n",
    "    {\"assistant\": \"Assistant1\", \"group\": \"Group2\", \"chapter\": \"Chapter1\", \"time_slot\": \"Sunday\", \"laboratory\": \"Lab1\", \"module\": \"Module1\"},\n",
    "    {\"assistant\": \"Assistant1\", \"group\": \"Group3\", \"chapter\": \"Chapter1\", \"time_slot\": \"Sunday\", \"laboratory\": \"Lab1\", \"module\": \"Module1\"},\n",
    "    {\"assistant\": \"Assistant1\", \"group\": \"Group4\", \"chapter\": \"Chapter1\", \"time_slot\": \"Sunday\", \"laboratory\": \"Lab1\", \"module\": \"Module1\"},  # Exceeds max threshold\n",
    "    {\"assistant\": \"Assistant2\", \"group\": \"Group1\", \"chapter\": \"Chapter1\", \"time_slot\": \"Monday\", \"laboratory\": \"Lab1\", \"module\": \"Module1\"},\n",
    "    {\"assistant\": \"Assistant2\", \"group\": \"Group2\", \"chapter\": \"Chapter1\", \"time_slot\": \"Monday\", \"laboratory\": \"Lab1\", \"module\": \"Module1\"},\n",
    "    {\"assistant\": \"Assistant2\", \"group\": \"Group3\", \"chapter\": \"Chapter1\", \"time_slot\": \"Monday\", \"laboratory\": \"Lab1\", \"module\": \"Module1\"},\n",
    "    {\"assistant\": \"Assistant3\", \"group\": \"Group1\", \"chapter\": \"Chapter1\", \"time_slot\": \"Tuesday\", \"laboratory\": \"Lab1\", \"module\": \"Module1\"},\n",
    "    {\"assistant\": \"Assistant3\", \"group\": \"Group2\", \"chapter\": \"Chapter1\", \"time_slot\": \"Tuesday\", \"laboratory\": \"Lab1\", \"module\": \"Module1\"},\n",
    "    {\"assistant\": \"Assistant3\", \"group\": \"Group3\", \"chapter\": \"Chapter1\", \"time_slot\": \"Tuesday\", \"laboratory\": \"Lab1\", \"module\": \"Module1\"},\n",
    "    {\"assistant\": \"Assistant3\", \"group\": \"Group4\", \"chapter\": \"Chapter1\", \"time_slot\": \"Tuesday\", \"laboratory\": \"Lab1\", \"module\": \"Module1\"}  # Exceeds max threshold\n",
    "]\n",
    "# Extract relevant fields for fitness function calculation\n",
    "labs = [gene[\"laboratory\"] for gene in dummy_chromosome]\n",
    "modules = [gene[\"module\"] for gene in dummy_chromosome]\n",
    "assistants = [gene[\"assistant\"] for gene in dummy_chromosome]\n",
    "groups = [gene[\"group\"] for gene in dummy_chromosome]\n",
    "timeslot_dates = [gene[\"time_slot\"] for gene in dummy_chromosome]\n",
    "timeslot_shifts = [gene[\"laboratory\"] for gene in dummy_chromosome]  # Assuming laboratory as shift for this example\n",
    "# Configure the GroupAssignmentCapacityFitness fitness function\n",
    "group_assignment_capacity_fitness = GroupAssignmentCapacityFitness().configure(max_threshold=3, conflict_penalty=10)\n",
    "# Calculate the penalty\n",
    "penalty = group_assignment_capacity_fitness.calculate_penalty(labs, modules, assistants, groups, timeslot_dates, timeslot_shifts)\n",
    "# Output the penalty\n",
    "print(f\"Total penalty for group assignment capacity: {penalty}\")"
   ]
  },
  {
   "cell_type": "code",
   "execution_count": null,
   "metadata": {},
   "outputs": [],
   "source": [
    "from typing import List\n",
    "from scheduling_algorithm.structure import Chromosome\n",
    "from scheduling_algorithm.fitness_function.base_fitness import BaseFitness\n",
    "\n",
    "from collections import defaultdict\n",
    "\n",
    "class FitnessManager:\n",
    "    def __init__(self, fitness_functions: List[BaseFitness]):\n",
    "        self.fitness_functions = fitness_functions\n",
    "\n",
    "    def __call__(self, chromosome: Chromosome) -> int:\n",
    "        \"\"\"Calculate the fitness of a chromosome\"\"\"\n",
    "        labs = chromosome[\"laboratory\"]\n",
    "        modules = chromosome[\"module\"]\n",
    "        chapters = chromosome[\"chapter\"]\n",
    "        timeslots = chromosome[\"time_slot\"]\n",
    "        groups = chromosome[\"group\"]\n",
    "        assistants = chromosome[\"assistant\"]\n",
    "            \n",
    "        # Calculate total fitness\n",
    "        total_fitness = 0\n",
    "        for fitness_function in self.fitness_functions:\n",
    "            if isinstance(fitness_function, GroupAssignmentCapacityFitness):\n",
    "                total_fitness += fitness_function.calculate_penalty(labs, modules, groups, timeslots)\n",
    "            elif isinstance(fitness_function, AssistantDistributionFitness):\n",
    "                total_fitness += fitness_function.calculate_penalty(modules, assistants, groups, timeslots)\n",
    "            elif isinstance(fitness_function, TimeslotConflict):\n",
    "                total_fitness += fitness_function.calculate_penalty(assistants, groups, timeslots)\n",
    "\n",
    "        return total_fitness"
   ]
  },
  {
   "cell_type": "code",
   "execution_count": null,
   "metadata": {},
   "outputs": [],
   "source": [
    "timeslotconflict = FitnessManager([TimeslotConflict()])\n",
    "assistantdist = FitnessManager([AssistantDistributionFitness()])\n",
    "groupassign = FitnessManager([GroupAssignmentCapacityFitness()])"
   ]
  },
  {
   "cell_type": "code",
   "execution_count": null,
   "metadata": {},
   "outputs": [],
   "source": [
    "timeslotconflict(solution)"
   ]
  },
  {
   "cell_type": "code",
   "execution_count": null,
   "metadata": {},
   "outputs": [],
   "source": [
    "assistantdist(solution)"
   ]
  },
  {
   "cell_type": "code",
   "execution_count": null,
   "metadata": {},
   "outputs": [],
   "source": [
    "groupassign(solution)"
   ]
  },
  {
   "cell_type": "code",
   "execution_count": null,
   "metadata": {},
   "outputs": [],
   "source": [
    "from scheduling_algorithm.data_parser import CommonData"
   ]
  },
  {
   "cell_type": "code",
   "execution_count": null,
   "metadata": {},
   "outputs": [],
   "source": [
    "CommonData.get_schedule(2,2)"
   ]
  },
  {
   "cell_type": "code",
   "execution_count": null,
   "metadata": {},
   "outputs": [],
   "source": [
    "CommonData.get_schedule(2,2)['Saturday']['Shift2']"
   ]
  },
  {
   "cell_type": "code",
   "execution_count": null,
   "metadata": {},
   "outputs": [],
   "source": [
    "import numpy as np\n",
    "array = np.array([1, 2, 3, 4, 5, 6, 7, 8, 9, 10])\n",
    "array2 = np.array([1, 2, 3, 4, 5, 6, 7, 8, 9, 10])"
   ]
  },
  {
   "cell_type": "code",
   "execution_count": null,
   "metadata": {},
   "outputs": [],
   "source": [
    "import timeit as t\n",
    "t.timeit('np.column_stack((array, array2))', globals=globals())"
   ]
  },
  {
   "cell_type": "code",
   "execution_count": null,
   "metadata": {},
   "outputs": [],
   "source": [
    "t.timeit('np.concatenate((array.reshape(-1, 1), array2.reshape(-1, 1)), axis=1)', globals=globals())"
   ]
  }
 ],
 "metadata": {
  "kernelspec": {
   "display_name": "jte-lab-timetabling",
   "language": "python",
   "name": "python3"
  },
  "language_info": {
   "codemirror_mode": {
    "name": "ipython",
    "version": 3
   },
   "file_extension": ".py",
   "mimetype": "text/x-python",
   "name": "python",
   "nbconvert_exporter": "python",
   "pygments_lexer": "ipython3",
   "version": "3.10.12"
  }
 },
 "nbformat": 4,
 "nbformat_minor": 2
}
